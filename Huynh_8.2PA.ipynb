{
 "cells": [
  {
   "cell_type": "raw",
   "metadata": {
    "vscode": {
     "languageId": "raw"
    }
   },
   "source": [
    "---\n",
    "title: “Huynh 8.2 PA”\n",
    "author: An Huynh\n",
    "format: \n",
    "    html:\n",
    "        toc: true\n",
    "        code-fold: true \n",
    "        code-summary: \"Show code\"\n",
    "embed-resources: true\n",
    "editor: visual\n",
    "theme: flatly \n",
    "---"
   ]
  },
  {
   "cell_type": "code",
   "execution_count": 42,
   "metadata": {},
   "outputs": [],
   "source": [
    "import pandas as pd\n",
    "from sklearn.pipeline import Pipeline\n",
    "from sklearn.metrics import (\n",
    "    confusion_matrix,\n",
    "    accuracy_score,\n",
    "    precision_recall_fscore_support,\n",
    "    roc_auc_score,\n",
    "    roc_curve\n",
    ")\n",
    "import matplotlib.pyplot as plt\n",
    "from sklearn.preprocessing import StandardScaler, LabelEncoder\n",
    "from sklearn.neighbors import KNeighborsClassifier\n",
    "from sklearn.tree import DecisionTreeClassifier\n",
    "from sklearn.linear_model import LogisticRegression\n",
    "from sklearn.model_selection import train_test_split\n",
    "from sklearn.metrics import classification_report\n",
    "import palmerpenguins as penguins\n",
    "\n",
    "penguins = penguins.load_penguins()\n",
    "penguins = penguins.dropna()\n"
   ]
  },
  {
   "cell_type": "code",
   "execution_count": 43,
   "metadata": {},
   "outputs": [],
   "source": [
    "#dummifying\n",
    "penguins = pd.get_dummies(penguins, columns=['island', 'sex'], drop_first=True, dtype=int)\n",
    "\n",
    "#encoding species variable (Adelie = 0, Gentoo = 2, Chinstrap = 1)\n",
    "label_encoder = LabelEncoder()\n",
    "penguins['species'] = label_encoder.fit_transform(penguins['species'])\n"
   ]
  },
  {
   "cell_type": "code",
   "execution_count": 44,
   "metadata": {},
   "outputs": [],
   "source": [
    "X = penguins.drop(\"species\", axis=1)\n",
    "y = penguins[\"species\"]\n",
    "\n",
    "X_train, X_test, y_train, y_test = train_test_split(\n",
    "    X, y, test_size=0.25, random_state=42, stratify=y\n",
    ")\n",
    "scaler = StandardScaler()\n",
    "X_train_scaled = scaler.fit_transform(X_train)\n",
    "X_test_scaled = scaler.transform(X_test)\n",
    "\n",
    "# kNN model with k=5\n",
    "knn1 = KNeighborsClassifier(n_neighbors=5)\n",
    "knn1.fit(X_train_scaled, y_train)\n",
    "y_pred_knn1 = knn1.predict(X_test_scaled)\n",
    "\n",
    "# kNN model with k=10\n",
    "knn2 = KNeighborsClassifier(n_neighbors=10)\n",
    "knn2.fit(X_train_scaled, y_train)\n",
    "\n",
    "# Decision Tree with max depth of 5\n",
    "tree1 = DecisionTreeClassifier(max_depth=5, random_state=42)\n",
    "tree1.fit(X_train, y_train)\n",
    "y_pred_tree1 = tree1.predict(X_test)\n",
    "\n",
    "# Decision Tree with max depth of 10\n",
    "tree2 = DecisionTreeClassifier(max_depth=10, random_state=42)\n",
    "tree2.fit(X_train, y_train)\n",
    "y_pred_tree2 = tree2.predict(X_test)"
   ]
  },
  {
   "cell_type": "markdown",
   "metadata": {},
   "source": [
    "Evaluation of Models "
   ]
  },
  {
   "cell_type": "code",
   "execution_count": 45,
   "metadata": {},
   "outputs": [
    {
     "name": "stdout",
     "output_type": "stream",
     "text": [
      "KNN Model 1\n",
      "Confusion Matrix:\n",
      "[[36  1  0]\n",
      " [ 1 16  0]\n",
      " [ 0  0 30]]\n",
      "\n",
      "Overall Accuracy: 0.9761904761904762\n",
      "\n",
      "Per-Class Precision: [0.97297297 0.94117647 1.        ]\n",
      "Per-Class Recall: [0.97297297 0.94117647 1.        ]\n",
      "Per-Class F1-Score: [0.97297297 0.94117647 1.        ]\n",
      "\n",
      "ROC AUC Score: 0.9995156645820722\n",
      "------------\n",
      "KNN Model 2\n",
      "Confusion Matrix:\n",
      "[[37  0  0]\n",
      " [ 0 17  0]\n",
      " [ 0  0 30]]\n",
      "\n",
      "Overall Accuracy: 1.0\n",
      "\n",
      "Per-Class Precision: [1. 1. 1.]\n",
      "Per-Class Recall: [1. 1. 1.]\n",
      "Per-Class F1-Score: [1. 1. 1.]\n",
      "\n",
      "ROC AUC Score: 1.0\n"
     ]
    }
   ],
   "source": [
    "#knn5 model 1 \n",
    "print(\"KNN Model 1\")\n",
    "\n",
    "y_pred_knn1 = knn1.predict(X_test_scaled)\n",
    "y_prob_knn1 = knn1.predict_proba(X_test_scaled)\n",
    "\n",
    "cm = confusion_matrix(y_test, y_pred_knn1)\n",
    "print(\"Confusion Matrix:\")\n",
    "print(cm)\n",
    "\n",
    "accuracy = accuracy_score(y_test, y_pred_knn1)\n",
    "print(\"\\nOverall Accuracy:\", accuracy)\n",
    "\n",
    "precision, recall, f1, _ = precision_recall_fscore_support(y_test, y_pred_knn1, average=None)\n",
    "print(\"\\nPer-Class Precision:\", precision)\n",
    "print(\"Per-Class Recall:\", recall)\n",
    "print(\"Per-Class F1-Score:\", f1)\n",
    "\n",
    "roc_auc = roc_auc_score(pd.get_dummies(y_test), y_prob_knn1, multi_class='ovr')\n",
    "print(\"\\nROC AUC Score:\", roc_auc)\n",
    "\n",
    "#knn10 model 2\n",
    "print(\"------------\")\n",
    "print(\"KNN Model 2\")\n",
    "\n",
    "y_pred_knn2 = knn2.predict(X_test_scaled)\n",
    "y_prob_knn2 = knn2.predict_proba(X_test_scaled)\n",
    "\n",
    "cm = confusion_matrix(y_test, y_pred_knn2)\n",
    "print(\"Confusion Matrix:\")\n",
    "print(cm)\n",
    "\n",
    "accuracy = accuracy_score(y_test, y_pred_knn2)\n",
    "print(\"\\nOverall Accuracy:\", accuracy)\n",
    "\n",
    "precision, recall, f1, _ = precision_recall_fscore_support(y_test, y_pred_knn2, average=None)\n",
    "print(\"\\nPer-Class Precision:\", precision)\n",
    "print(\"Per-Class Recall:\", recall)\n",
    "print(\"Per-Class F1-Score:\", f1)\n",
    "\n",
    "roc_auc = roc_auc_score(pd.get_dummies(y_test), y_prob_knn2, multi_class='ovr')\n",
    "print(\"\\nROC AUC Score:\", roc_auc)\n"
   ]
  },
  {
   "cell_type": "code",
   "execution_count": 46,
   "metadata": {},
   "outputs": [
    {
     "name": "stdout",
     "output_type": "stream",
     "text": [
      "Tree Model 1\n",
      "Confusion Matrix:\n",
      "[[34  3  0]\n",
      " [ 0 17  0]\n",
      " [ 2  0 28]]\n",
      "\n",
      "Overall Accuracy: 0.9404761904761905\n",
      "\n",
      "Per-Class Precision: [0.94444444 0.85       1.        ]\n",
      "Per-Class Recall: [0.91891892 1.         0.93333333]\n",
      "Per-Class F1-Score: [0.93150685 0.91891892 0.96551724]\n",
      "\n",
      "ROC AUC Score: 0.9608204902266508\n",
      "-------------\n",
      "Tree Model 2\n",
      "Confusion Matrix:\n",
      "[[34  3  0]\n",
      " [ 0 17  0]\n",
      " [ 2  0 28]]\n",
      "\n",
      "Overall Accuracy: 0.9404761904761905\n",
      "\n",
      "Per-Class Precision: [0.94444444 0.85       1.        ]\n",
      "Per-Class Recall: [0.91891892 1.         0.93333333]\n",
      "Per-Class F1-Score: [0.93150685 0.91891892 0.96551724]\n",
      "\n",
      "ROC AUC Score: 0.9608204902266508\n"
     ]
    }
   ],
   "source": [
    "# Decision tree 5 model 1\n",
    "\n",
    "print(\"Tree Model 1\")\n",
    "\n",
    "y_pred_tree1 = tree1.predict(X_test)\n",
    "y_prob_tree1 = tree1.predict_proba(X_test)\n",
    "\n",
    "cm = confusion_matrix(y_test, y_pred_tree1)\n",
    "print(\"Confusion Matrix:\")\n",
    "print(cm)\n",
    "\n",
    "accuracy = accuracy_score(y_test, y_pred_tree1)\n",
    "print(\"\\nOverall Accuracy:\", accuracy)\n",
    "\n",
    "precision, recall, f1, _ = precision_recall_fscore_support(y_test, y_pred_tree1, average=None)\n",
    "print(\"\\nPer-Class Precision:\", precision)\n",
    "print(\"Per-Class Recall:\", recall)\n",
    "print(\"Per-Class F1-Score:\", f1)\n",
    "\n",
    "roc_auc = roc_auc_score(pd.get_dummies(y_test), y_prob_tree1, multi_class='ovr')\n",
    "print(\"\\nROC AUC Score:\", roc_auc)\n",
    "\n",
    "# Decision tree 10 model 2\n",
    "print(\"-------------\")\n",
    "\n",
    "print(\"Tree Model 2\")\n",
    "\n",
    "y_pred_tree2 = tree2.predict(X_test)\n",
    "y_prob_tree2 = tree2.predict_proba(X_test)\n",
    "\n",
    "cm = confusion_matrix(y_test, y_pred_tree2)\n",
    "print(\"Confusion Matrix:\")\n",
    "print(cm)\n",
    "\n",
    "accuracy = accuracy_score(y_test, y_pred_tree2)\n",
    "print(\"\\nOverall Accuracy:\", accuracy)\n",
    "\n",
    "precision, recall, f1, _ = precision_recall_fscore_support(y_test, y_pred_tree2, average=None)\n",
    "print(\"\\nPer-Class Precision:\", precision)\n",
    "print(\"Per-Class Recall:\", recall)\n",
    "print(\"Per-Class F1-Score:\", f1)\n",
    "\n",
    "roc_auc = roc_auc_score(pd.get_dummies(y_test), y_prob_tree2, multi_class='ovr')\n",
    "print(\"\\nROC AUC Score:\", roc_auc)"
   ]
  },
  {
   "cell_type": "code",
   "execution_count": 47,
   "metadata": {},
   "outputs": [
    {
     "data": {
      "image/png": "[encoded data removed]",
      "text/plain": [
       "<Figure size 640x480 with 1 Axes>"
      ]
     },
     "metadata": {},
     "output_type": "display_data"
    }
   ],
   "source": [
    "species_index = 2  # Gentoo Encoder\n",
    "fpr, tpr, _ = roc_curve(y_test == species_index, y_prob_knn2[:, species_index])\n",
    "\n",
    "# Plotting the ROC Curve\n",
    "plt.figure()\n",
    "plt.plot(fpr, tpr, label=f\"ROC for Species {species_index} (AUC = {auc:.2f})\")\n",
    "plt.plot([0, 1], [0, 1], 'r--', label=\"Random Classifier (AUC = 0.5)\") \n",
    "plt.xlabel(\"False Positive Rate\")\n",
    "plt.ylabel(\"True Positive Rate\")\n",
    "plt.title(\"ROC Curve of Gentoo Species\")\n",
    "plt.legend()\n",
    "plt.show()"
   ]
  }
 ],
 "metadata": {
  "kernelspec": {
   "display_name": "Python 3",
   "language": "python",
   "name": "python3"
  },
  "language_info": {
   "codemirror_mode": {
    "name": "ipython",
    "version": 3
   },
   "file_extension": ".py",
   "mimetype": "text/x-python",
   "name": "python",
   "nbconvert_exporter": "python",
   "pygments_lexer": "ipython3",
   "version": "3.9.6"
  }
 },
 "nbformat": 4,
 "nbformat_minor": 2
}
