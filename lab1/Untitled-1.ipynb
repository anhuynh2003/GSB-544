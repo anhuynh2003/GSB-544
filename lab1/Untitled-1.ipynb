{
 "cells": [
  {
   "cell_type": "code",
   "execution_count": 11,
   "metadata": {},
   "outputs": [
    {
     "name": "stdout",
     "output_type": "stream",
     "text": [
      "Defaulting to user installation because normal site-packages is not writeable\r\n",
      "Defaulting to user installation because normal site-packages is not writeable\r\n"
     ]
    },
    {
     "name": "stdout",
     "output_type": "stream",
     "text": [
      "Requirement already satisfied: plotnine in /Users/anhuynh/Library/Python/3.9/lib/python/site-packages (0.13.6)\r\n",
      "Requirement already satisfied: matplotlib>=3.7.0 in /Users/anhuynh/Library/Python/3.9/lib/python/site-packages (from plotnine) (3.9.2)\r\n",
      "Requirement already satisfied: scipy>=1.7.0 in /Users/anhuynh/Library/Python/3.9/lib/python/site-packages (from plotnine) (1.13.1)\r\n",
      "Requirement already satisfied: pandas<3.0.0,>=2.1.0 in /Users/anhuynh/Library/Python/3.9/lib/python/site-packages (from plotnine) (2.2.3)\r\n",
      "Requirement already satisfied: numpy>=1.23.0 in /Users/anhuynh/Library/Python/3.9/lib/python/site-packages (from plotnine) (2.0.2)\r\n",
      "Requirement already satisfied: statsmodels>=0.14.0 in /Users/anhuynh/Library/Python/3.9/lib/python/site-packages (from plotnine) (0.14.3)\r\n",
      "Requirement already satisfied: mizani~=0.11.0 in /Users/anhuynh/Library/Python/3.9/lib/python/site-packages (from plotnine) (0.11.4)\r\n",
      "Requirement already satisfied: fonttools>=4.22.0 in /Users/anhuynh/Library/Python/3.9/lib/python/site-packages (from matplotlib>=3.7.0->plotnine) (4.54.1)\r\n",
      "Requirement already satisfied: plotnine in /Users/anhuynh/Library/Python/3.9/lib/python/site-packages (0.13.6)\r\n",
      "Requirement already satisfied: matplotlib>=3.7.0 in /Users/anhuynh/Library/Python/3.9/lib/python/site-packages (from plotnine) (3.9.2)\r\n",
      "Requirement already satisfied: scipy>=1.7.0 in /Users/anhuynh/Library/Python/3.9/lib/python/site-packages (from plotnine) (1.13.1)\r\n",
      "Requirement already satisfied: pandas<3.0.0,>=2.1.0 in /Users/anhuynh/Library/Python/3.9/lib/python/site-packages (from plotnine) (2.2.3)\r\n",
      "Requirement already satisfied: numpy>=1.23.0 in /Users/anhuynh/Library/Python/3.9/lib/python/site-packages (from plotnine) (2.0.2)\r\n",
      "Requirement already satisfied: statsmodels>=0.14.0 in /Users/anhuynh/Library/Python/3.9/lib/python/site-packages (from plotnine) (0.14.3)\r\n",
      "Requirement already satisfied: mizani~=0.11.0 in /Users/anhuynh/Library/Python/3.9/lib/python/site-packages (from plotnine) (0.11.4)\r\n",
      "Requirement already satisfied: fonttools>=4.22.0 in /Users/anhuynh/Library/Python/3.9/lib/python/site-packages (from matplotlib>=3.7.0->plotnine) (4.54.1)\r\n"
     ]
    },
    {
     "name": "stdout",
     "output_type": "stream",
     "text": [
      "Requirement already satisfied: pyparsing>=2.3.1 in /Users/anhuynh/Library/Python/3.9/lib/python/site-packages (from matplotlib>=3.7.0->plotnine) (3.1.4)\r\n",
      "Requirement already satisfied: kiwisolver>=1.3.1 in /Users/anhuynh/Library/Python/3.9/lib/python/site-packages (from matplotlib>=3.7.0->plotnine) (1.4.7)\r\n",
      "Requirement already satisfied: contourpy>=1.0.1 in /Users/anhuynh/Library/Python/3.9/lib/python/site-packages (from matplotlib>=3.7.0->plotnine) (1.3.0)\r\n",
      "Requirement already satisfied: python-dateutil>=2.7 in /Users/anhuynh/Library/Python/3.9/lib/python/site-packages (from matplotlib>=3.7.0->plotnine) (2.9.0.post0)\r\n",
      "Requirement already satisfied: importlib-resources>=3.2.0 in /Users/anhuynh/Library/Python/3.9/lib/python/site-packages (from matplotlib>=3.7.0->plotnine) (6.4.5)\r\n",
      "Requirement already satisfied: cycler>=0.10 in /Users/anhuynh/Library/Python/3.9/lib/python/site-packages (from matplotlib>=3.7.0->plotnine) (0.12.1)\r\n",
      "Requirement already satisfied: packaging>=20.0 in /Users/anhuynh/Library/Python/3.9/lib/python/site-packages (from matplotlib>=3.7.0->plotnine) (24.1)\r\n",
      "Requirement already satisfied: pillow>=8 in /Users/anhuynh/Library/Python/3.9/lib/python/site-packages (from matplotlib>=3.7.0->plotnine) (10.4.0)\r\n",
      "Requirement already satisfied: pyparsing>=2.3.1 in /Users/anhuynh/Library/Python/3.9/lib/python/site-packages (from matplotlib>=3.7.0->plotnine) (3.1.4)\r\n",
      "Requirement already satisfied: kiwisolver>=1.3.1 in /Users/anhuynh/Library/Python/3.9/lib/python/site-packages (from matplotlib>=3.7.0->plotnine) (1.4.7)\r\n",
      "Requirement already satisfied: contourpy>=1.0.1 in /Users/anhuynh/Library/Python/3.9/lib/python/site-packages (from matplotlib>=3.7.0->plotnine) (1.3.0)\r\n",
      "Requirement already satisfied: python-dateutil>=2.7 in /Users/anhuynh/Library/Python/3.9/lib/python/site-packages (from matplotlib>=3.7.0->plotnine) (2.9.0.post0)\r\n",
      "Requirement already satisfied: importlib-resources>=3.2.0 in /Users/anhuynh/Library/Python/3.9/lib/python/site-packages (from matplotlib>=3.7.0->plotnine) (6.4.5)\r\n",
      "Requirement already satisfied: cycler>=0.10 in /Users/anhuynh/Library/Python/3.9/lib/python/site-packages (from matplotlib>=3.7.0->plotnine) (0.12.1)\r\n",
      "Requirement already satisfied: packaging>=20.0 in /Users/anhuynh/Library/Python/3.9/lib/python/site-packages (from matplotlib>=3.7.0->plotnine) (24.1)\r\n",
      "Requirement already satisfied: pillow>=8 in /Users/anhuynh/Library/Python/3.9/lib/python/site-packages (from matplotlib>=3.7.0->plotnine) (10.4.0)\r\n"
     ]
    },
    {
     "name": "stdout",
     "output_type": "stream",
     "text": [
      "Requirement already satisfied: zipp>=3.1.0 in /Users/anhuynh/Library/Python/3.9/lib/python/site-packages (from importlib-resources>=3.2.0->matplotlib>=3.7.0->plotnine) (3.20.2)\r\n",
      "Requirement already satisfied: zipp>=3.1.0 in /Users/anhuynh/Library/Python/3.9/lib/python/site-packages (from importlib-resources>=3.2.0->matplotlib>=3.7.0->plotnine) (3.20.2)\r\n"
     ]
    },
    {
     "name": "stdout",
     "output_type": "stream",
     "text": [
      "Requirement already satisfied: pytz>=2020.1 in /Users/anhuynh/Library/Python/3.9/lib/python/site-packages (from pandas<3.0.0,>=2.1.0->plotnine) (2024.2)\r\n",
      "Requirement already satisfied: pytz>=2020.1 in /Users/anhuynh/Library/Python/3.9/lib/python/site-packages (from pandas<3.0.0,>=2.1.0->plotnine) (2024.2)\r\n"
     ]
    },
    {
     "name": "stdout",
     "output_type": "stream",
     "text": [
      "Requirement already satisfied: tzdata>=2022.7 in /Users/anhuynh/Library/Python/3.9/lib/python/site-packages (from pandas<3.0.0,>=2.1.0->plotnine) (2024.2)\r\n",
      "Requirement already satisfied: six>=1.5 in /Library/Developer/CommandLineTools/Library/Frameworks/Python3.framework/Versions/3.9/lib/python3.9/site-packages (from python-dateutil>=2.7->matplotlib>=3.7.0->plotnine) (1.15.0)\r\n",
      "Requirement already satisfied: tzdata>=2022.7 in /Users/anhuynh/Library/Python/3.9/lib/python/site-packages (from pandas<3.0.0,>=2.1.0->plotnine) (2024.2)\r\n",
      "Requirement already satisfied: six>=1.5 in /Library/Developer/CommandLineTools/Library/Frameworks/Python3.framework/Versions/3.9/lib/python3.9/site-packages (from python-dateutil>=2.7->matplotlib>=3.7.0->plotnine) (1.15.0)\r\n"
     ]
    },
    {
     "name": "stdout",
     "output_type": "stream",
     "text": [
      "Requirement already satisfied: patsy>=0.5.6 in /Users/anhuynh/Library/Python/3.9/lib/python/site-packages (from statsmodels>=0.14.0->plotnine) (0.5.6)\r\n",
      "Requirement already satisfied: patsy>=0.5.6 in /Users/anhuynh/Library/Python/3.9/lib/python/site-packages (from statsmodels>=0.14.0->plotnine) (0.5.6)\r\n"
     ]
    },
    {
     "name": "stdout",
     "output_type": "stream",
     "text": [
      "\u001b[33mWARNING: You are using pip version 21.2.4; however, version 24.2 is available.\r\n",
      "You should consider upgrading via the '/Library/Developer/CommandLineTools/usr/bin/python3 -m pip install --upgrade pip' command.\u001b[0m\r\n",
      "\u001b[33mWARNING: You are using pip version 21.2.4; however, version 24.2 is available.\r\n",
      "You should consider upgrading via the '/Library/Developer/CommandLineTools/usr/bin/python3 -m pip install --upgrade pip' command.\u001b[0m\r\n"
     ]
    },
    {
     "name": "stdout",
     "output_type": "stream",
     "text": [
      "Note: you may need to restart the kernel to use updated packages.\n",
      "Note: you may need to restart the kernel to use updated packages.\n"
     ]
    }
   ],
   "source": [
    "import pandas as pd \n",
    "data = pd.read_csv(\"/Users/anhuynh/Downloads/MSBA2024/GSB_544_Computing/lab1/Data/q1data.csv\")\n",
    "\n",
    "%pip install plotnine \n",
    "import plotnine as plt\n",
    "\n",
    "\n"
   ]
  }
 ],
 "metadata": {
  "language_info": {
   "name": "python"
  }
 },
 "nbformat": 4,
 "nbformat_minor": 2
}
